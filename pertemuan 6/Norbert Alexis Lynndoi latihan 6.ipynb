{
 "cells": [
  {
   "cell_type": "code",
   "execution_count": 13,
   "id": "52365cc8-0870-4af2-a16d-1406e824ff19",
   "metadata": {},
   "outputs": [
    {
     "name": "stdout",
     "output_type": "stream",
     "text": [
      "5 * 5  = 5 + 5 + 5 + 5 + 5 = 25.\n"
     ]
    }
   ],
   "source": [
    "def perkalian(angkasatu, angkaKedua):\n",
    "    hasil = angkasatu*angkaKedua\n",
    "    i = 0\n",
    "    print(f\"{angkasatu} * {angkaKedua} \",end=\" = \")\n",
    "    if angkasatu == 0 or angkaKedua == 0:\n",
    "        hasil = 0 \n",
    "        print(f\" {hasil}.\")\n",
    "    else:\n",
    "        while i < angkasatu:\n",
    "            print(angkaKedua, end=\"\")\n",
    "            if i < angkasatu - 1:\n",
    "                print(\" + \", end=\"\")\n",
    "            i += 1\n",
    "        print(f\" = {hasil}.\")\n",
    "perkalian(5, 5)"
   ]
  },
  {
   "cell_type": "code",
   "execution_count": 3,
   "id": "5bd18ecc-e8ab-41fe-8f1e-e3bc91dec141",
   "metadata": {},
   "outputs": [
    {
     "name": "stdin",
     "output_type": "stream",
     "text": [
      "bawah =  18\n",
      "atas =  10\n"
     ]
    },
    {
     "name": "stdout",
     "output_type": "stream",
     "text": [
      "Karena bawah > atas, berarti dari besar ke kecil, maka hasilnya adalah: 17, 15, 13, 11.\n"
     ]
    }
   ],
   "source": [
    "def ganjil(bawah,atas):\n",
    "    if bawah < atas:\n",
    "        print(\"Karena bawah < atas, berarti dari kecil ke besar, maka hasilnya adalah: \",end=\"\")\n",
    "        for i in range(bawah, atas + 1):\n",
    "            if i %2 != 0:\n",
    "                print (i,end=\"\")\n",
    "                if i < atas - 1:\n",
    "                    print(end=\", \")\n",
    "        print(\".\")\n",
    "    elif bawah > atas:\n",
    "        print(\"Karena bawah > atas, berarti dari besar ke kecil, maka hasilnya adalah: \",end=\"\")\n",
    "        for i in range(bawah,atas-1 , -1):\n",
    "            if i % 2 !=0: \n",
    "                print(i ,end=\"\")\n",
    "                if i > atas + 1:\n",
    "                    print(end=\", \")\n",
    "        print(\".\") \n",
    "\n",
    "bb1 = int(input(\"bawah = \"))\n",
    "bb2 = int(input(\"atas = \"))\n",
    "ganjil(bb1,bb2)"
   ]
  },
  {
   "cell_type": "code",
   "execution_count": 29,
   "id": "48c6df65-7b76-4911-a422-c3204cb2e981",
   "metadata": {},
   "outputs": [
    {
     "name": "stdin",
     "output_type": "stream",
     "text": [
      "jumlah matkul?  5\n"
     ]
    },
    {
     "name": "stdout",
     "output_type": "stream",
     "text": [
      "masukin nilai matkul pake huruf gede yakk A,B,C,D\n"
     ]
    },
    {
     "name": "stdin",
     "output_type": "stream",
     "text": [
      "Nilai mk 1 :  a\n",
      "Nilai mk 2 :  sa\n",
      "Nilai mk 3 :  sa\n",
      "Nilai mk 4 :  s\n",
      "Nilai mk 5 :  as\n"
     ]
    },
    {
     "name": "stdout",
     "output_type": "stream",
     "text": [
      "IPS Anda semester ini adalah: 0.00\n"
     ]
    }
   ],
   "source": [
    "def hitung_ips(semuamatkul):\n",
    "    semuabobot = 0\n",
    "    semuasks = semuamatkul * 3\n",
    "    bobotmatkul = 0\n",
    "    i = 1\n",
    "    print(\"masukin nilai matkul pake huruf gede yakk A,B,C,D\")\n",
    "    for i in range(semuamatkul):\n",
    "        nilai = input(f\"Nilai mk {i+1} : \")\n",
    "        if nilai == \"A\":\n",
    "            bobotmatkul = 4\n",
    "        elif nilai == \"B\":\n",
    "            bobotmatkul = 3\n",
    "        elif nilai == \"C\":\n",
    "            bobotmatkul = 2\n",
    "        elif nilai == \"D\":\n",
    "            bobotmatkul = 1\n",
    "        else:\n",
    "            continue\n",
    "        semuabobot = semuabobot + bobotmatkul * 3 \n",
    "    total = semuabobot / semuasks\n",
    "    return total\n",
    "\n",
    "semuamk = int(input(\"jumlah matkul? \"))\n",
    "if semuamk < 1:\n",
    "    print(\"lah kok matkul lu segitu brok?\")\n",
    "else:\n",
    "    ips = hitung_ips(semuamk)\n",
    "    print(f\"IPS Anda semester ini adalah: {ips:.2f}\")"
   ]
  },
  {
   "cell_type": "code",
   "execution_count": null,
   "id": "055b5419-8522-44f8-9321-424e1829b209",
   "metadata": {},
   "outputs": [],
   "source": []
  },
  {
   "cell_type": "code",
   "execution_count": null,
   "id": "6e80cae1-c8f3-4137-9124-715ce5f959c2",
   "metadata": {},
   "outputs": [],
   "source": []
  }
 ],
 "metadata": {
  "kernelspec": {
   "display_name": "Python [conda env:base] *",
   "language": "python",
   "name": "conda-base-py"
  },
  "language_info": {
   "codemirror_mode": {
    "name": "ipython",
    "version": 3
   },
   "file_extension": ".py",
   "mimetype": "text/x-python",
   "name": "python",
   "nbconvert_exporter": "python",
   "pygments_lexer": "ipython3",
   "version": "3.12.7"
  }
 },
 "nbformat": 4,
 "nbformat_minor": 5
}
