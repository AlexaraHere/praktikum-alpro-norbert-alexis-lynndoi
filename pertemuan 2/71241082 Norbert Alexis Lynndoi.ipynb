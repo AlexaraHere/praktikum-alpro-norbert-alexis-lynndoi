{
 "cells": [
  {
   "cell_type": "code",
   "execution_count": 59,
   "id": "64ed5758-76f7-4eb7-8190-55caff50c26f",
   "metadata": {},
   "outputs": [
    {
     "name": "stdin",
     "output_type": "stream",
     "text": [
      "bmi yang kamu idam-idamkan ituh 20\n",
      "seberapa tinggi kamuh dalam meter yak 1.6\n"
     ]
    },
    {
     "name": "stdout",
     "output_type": "stream",
     "text": [
      "berat badan mu harus segini 51 KG\n"
     ]
    }
   ],
   "source": [
    "def berat():\n",
    "    berat = bmi * tinggi ** 2\n",
    "    return berat\n",
    "\n",
    "bmi = int(input(\"bmi yang kamu idam-idamkan ituh\"))\n",
    "tinggi = float(input(\"seberapa tinggi kamuh dalam meter yak\"))\n",
    "a = berat()\n",
    "print(f\"berat badan mu harus {round(a)} KG\")\n"
   ]
  },
  {
   "cell_type": "code",
   "execution_count": 5,
   "id": "c7a80b3f-2c18-4e26-b458-a2d34fbf5dd9",
   "metadata": {},
   "outputs": [
    {
     "name": "stdin",
     "output_type": "stream",
     "text": [
      "masukkan nilai x 5\n"
     ]
    },
    {
     "name": "stdout",
     "output_type": "stream",
     "text": [
      "hasil nya 263.0\n"
     ]
    }
   ],
   "source": [
    "def fungsi():\n",
    "    fx = 2*(x**3)+2*x+15/x\n",
    "    return fx\n",
    "\n",
    "x = int(input(\"masukkan nilai x\"))\n",
    "b = fungsi()\n",
    "print(\"hasil nya\", b)    "
   ]
  },
  {
   "cell_type": "code",
   "execution_count": 31,
   "id": "e4c0b9ae-e9f5-4616-a22e-819ea5691ad6",
   "metadata": {},
   "outputs": [
    {
     "name": "stdin",
     "output_type": "stream",
     "text": [
      "Gaji per jam yang Anda inginkan =  100000\n",
      "Jumlah jam kerja yang akan dilakukan dalam 1 minggu =  5\n"
     ]
    },
    {
     "name": "stdout",
     "output_type": "stream",
     "text": [
      "Pendapatan Budi selama libur musim panas sebelum melakukan pembayaran pajak adalah Rp2500000\n",
      "Pendapatan Budi selama libur musim panas setelah melakukan pembayaran pajak adalah Rp2150000\n",
      "Jumlah uang yang akan Budi habiskan untuk membeli pakaian dan aksesoris adalah Rp215000\n",
      "Jumlah uang yang akan Budi habiskan untuk membeli alat tulis Rp19350\n",
      "Jumlah uang yang akan Budi sedekahkan Rp478912\n",
      "Jumlah uang yang akan diterima anak yatim Rp143674\n",
      "Jumlah uang yang akan diterima kaum dhuafa Rp335239\n"
     ]
    }
   ],
   "source": [
    "def gajidanpengeluaran(gaji1jam, jamkerja):\n",
    "    sebelumpajak = gaji1jam*jamkerja * 5\n",
    "    setelahpajak = sebelumpajak - ((14/100) * sebelumpajak)\n",
    "    outfitlu = setelahpajak * (10/100)\n",
    "    sisaoutfit = setelahpajak - outfitlu\n",
    "    alattulis = sisaoutfit * (1/100)\n",
    "    sisaalattulis = sisaoutfit - alattulis\n",
    "    sedekah =  sisaalattulis * (25/100)\n",
    "    gapunyabapak = sedekah * (30/100)\n",
    "    tidakmampu = sedekah - gapunyabapak\n",
    "    return sebelumpajak, setelahpajak, outfitlu, alattulis, sedekah, gapunyabapak, tidakmampu\n",
    "\n",
    "gaji1jam = int(input(\"Gaji per jam yang Anda inginkan = \"))\n",
    "jamkerja = int(input(\"Jumlah jam kerja yang akan dilakukan dalam 1 minggu = \"))\n",
    "\n",
    "hasil = gajidanpengeluaran(gaji1jam, jamkerja)\n",
    "\n",
    "print(f\"Pendapatan Budi selama libur musim panas sebelum melakukan pembayaran pajak adalah Rp{hasil[0]}\")\n",
    "print(f\"Pendapatan Budi selama libur musim panas setelah melakukan pembayaran pajak adalah Rp{round(hasil[1])}\")\n",
    "print(f\"Jumlah uang yang akan Budi habiskan untuk membeli pakaian dan aksesoris adalah Rp{round(hasil[2])}\")\n",
    "print(f\"Jumlah uang yang akan Budi habiskan untuk membeli alat tulis Rp{round(hasil[3])}\")\n",
    "print(f\"Jumlah uang yang akan Budi sedekahkan Rp{round(hasil[4])}\")\n",
    "print(f\"Jumlah uang yang akan diterima anak yatim Rp{round(hasil[5])}\")\n",
    "print(f\"Jumlah uang yang akan diterima kaum dhuafa Rp{round(hasil[6])}\")"
   ]
  },
  {
   "cell_type": "code",
   "execution_count": null,
   "id": "c5b82787-e88a-456f-ae99-467c6d7da854",
   "metadata": {},
   "outputs": [],
   "source": []
  }
 ],
 "metadata": {
  "kernelspec": {
   "display_name": "Python [conda env:base] *",
   "language": "python",
   "name": "conda-base-py"
  },
  "language_info": {
   "codemirror_mode": {
    "name": "ipython",
    "version": 3
   },
   "file_extension": ".py",
   "mimetype": "text/x-python",
   "name": "python",
   "nbconvert_exporter": "python",
   "pygments_lexer": "ipython3",
   "version": "3.12.7"
  }
 },
 "nbformat": 4,
 "nbformat_minor": 5
}
