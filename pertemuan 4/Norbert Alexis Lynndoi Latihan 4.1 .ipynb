{
 "cells": [
  {
   "cell_type": "code",
   "execution_count": 20,
   "id": "78965a7d-85d0-493a-8148-b0f3d1b029ef",
   "metadata": {},
   "outputs": [
    {
     "name": "stdin",
     "output_type": "stream",
     "text": [
      "Masukkan suhu tubuh:  gvfdcsx\n"
     ]
    },
    {
     "name": "stdout",
     "output_type": "stream",
     "text": [
      "salah, jangan pake huruf dongg\n"
     ]
    }
   ],
   "source": [
    "suhu = input(\"Masukkan suhu tubuh: \")\n",
    "try:\n",
    "    suhu = int(suhu)\n",
    "    if suhu >= 38:\n",
    "        print(\"Anda demam\")\n",
    "    else:\n",
    "        print(\"Anda tidak demam\")\n",
    "except:\n",
    "    print(\"salah, jangan pake huruf dongg\")"
   ]
  },
  {
   "cell_type": "code",
   "execution_count": 22,
   "id": "cda5d20d-e660-4a14-9c49-5b642fb14696",
   "metadata": {},
   "outputs": [
    {
     "name": "stdin",
     "output_type": "stream",
     "text": [
      "Masukkan suatu bilangan:  tefcdxs\n"
     ]
    },
    {
     "name": "stdout",
     "output_type": "stream",
     "text": [
      "salah, jangan pake huruf dongg\n",
      "invalid literal for int() with base 10: 'tefcdxs'\n"
     ]
    }
   ],
   "source": [
    "bilangan = (input(\"Masukkan suatu bilangan: \"))\n",
    "try:\n",
    "    bilangan = int(bilangan)  \n",
    "    if bilangan > 0:\n",
    "        print(\"Positif\")\n",
    "    elif bilangan < 0:\n",
    "        print(\"Negatif\")\n",
    "    elif bilangan == 0:\n",
    "        print(\"Nol\")\n",
    "except Exception as e:\n",
    "    print(f\"salah, jangan pake huruf dongg\\n{e}\")"
   ]
  },
  {
   "cell_type": "code",
   "execution_count": 1,
   "id": "7d86f221-8062-47c5-987e-e96645af1662",
   "metadata": {},
   "outputs": [
    {
     "name": "stdin",
     "output_type": "stream",
     "text": [
      "Masukkan bilangan pertama:  32\n",
      "Masukkan bilangan kedua:  23\n",
      "Masukkan bilangan ketiga:  1\n"
     ]
    },
    {
     "name": "stdout",
     "output_type": "stream",
     "text": [
      "Terbesar:  32\n"
     ]
    }
   ],
   "source": [
    "a = input(\"Masukkan bilangan pertama: \")\n",
    "b = input(\"Masukkan bilangan kedua: \")\n",
    "c = input(\"Masukkan bilangan ketiga: \")\n",
    "try: \n",
    "    a = int(a)\n",
    "    b = int(b)\n",
    "    c = int(c)\n",
    "    if a > b and a > c:\n",
    "        print(\"Terbesar: \", a)\n",
    "    elif b > a and b > c:\n",
    "        print(\"Terbesar: \", b)\n",
    "    elif c > a and c > b:\n",
    "        print(\"Terbesar: \", c)\n",
    "except:\n",
    "    print(\"salah, jangan pake huruf dongg\")"
   ]
  },
  {
   "cell_type": "code",
   "execution_count": null,
   "id": "1ca62279-f5ee-4270-a4bc-5501a879dcb3",
   "metadata": {},
   "outputs": [],
   "source": []
  }
 ],
 "metadata": {
  "kernelspec": {
   "display_name": "Python [conda env:base] *",
   "language": "python",
   "name": "conda-base-py"
  },
  "language_info": {
   "codemirror_mode": {
    "name": "ipython",
    "version": 3
   },
   "file_extension": ".py",
   "mimetype": "text/x-python",
   "name": "python",
   "nbconvert_exporter": "python",
   "pygments_lexer": "ipython3",
   "version": "3.12.7"
  }
 },
 "nbformat": 4,
 "nbformat_minor": 5
}
