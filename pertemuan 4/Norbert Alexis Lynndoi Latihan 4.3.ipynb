{
 "cells": [
  {
   "cell_type": "code",
   "execution_count": 6,
   "id": "808b47ee-4e6b-4521-b1c0-1c9f26d893e7",
   "metadata": {},
   "outputs": [
    {
     "name": "stdin",
     "output_type": "stream",
     "text": [
      "Masukkan bulan (1-12):  12\n"
     ]
    },
    {
     "name": "stdout",
     "output_type": "stream",
     "text": [
      "Jumlah hari: 31\n"
     ]
    }
   ],
   "source": [
    "def tanggalnyabrp(bulan):\n",
    "    try:\n",
    "        bulan = int(bulan)\n",
    "        if bulan == 2:\n",
    "            return \"Jumlah hari: 29\"\n",
    "        elif bulan in [4, 6, 9, 11]:\n",
    "            return \"Jumlah hari: 30\"\n",
    "        elif bulan in [1, 3, 5, 7, 8, 10, 12]:\n",
    "            return \"Jumlah hari: 31\"\n",
    "        else:\n",
    "            return \"apaandah\"\n",
    "    except:\n",
    "        return \"ngeinput nya jangan gitu dong, nulis nya pake angka dan milih 1-12.\"\n",
    "\n",
    "yahaloo = input(\"Masukkan bulan (1-12): \")\n",
    "hasil = tanggalnyabrp(yahaloo)\n",
    "print(hasil)"
   ]
  },
  {
   "cell_type": "code",
   "execution_count": null,
   "id": "1f8d898c-bad7-432e-85d2-99e385297b3c",
   "metadata": {},
   "outputs": [],
   "source": []
  }
 ],
 "metadata": {
  "kernelspec": {
   "display_name": "Python [conda env:base] *",
   "language": "python",
   "name": "conda-base-py"
  },
  "language_info": {
   "codemirror_mode": {
    "name": "ipython",
    "version": 3
   },
   "file_extension": ".py",
   "mimetype": "text/x-python",
   "name": "python",
   "nbconvert_exporter": "python",
   "pygments_lexer": "ipython3",
   "version": "3.12.7"
  }
 },
 "nbformat": 4,
 "nbformat_minor": 5
}
