{
 "cells": [
  {
   "cell_type": "code",
   "execution_count": 20,
   "id": "52637c5a-8960-48c4-8f11-f691585e9090",
   "metadata": {},
   "outputs": [
    {
     "name": "stdin",
     "output_type": "stream",
     "text": [
      "Masukkan sisi 1:  dh\n",
      "Masukkan sisi 2:  tfh\n",
      "Masukkan sisi 3:  fh\n"
     ]
    },
    {
     "name": "stdout",
     "output_type": "stream",
     "text": [
      "masukin angka dongg, jangan yang lain\n"
     ]
    }
   ],
   "source": [
    "def sisisama(satu,dua,tiga):\n",
    "    try:\n",
    "        satu = int(satu)\n",
    "        dua = int(dua)\n",
    "        tiga = int(tiga)\n",
    "        if satu == dua == tiga:\n",
    "            return \"3 sisi sama\"\n",
    "        elif satu == dua or satu == tiga or dua == tiga:\n",
    "            return \"2 sisi sama\"\n",
    "        else:\n",
    "            return \"Tidak ada yang sama\"\n",
    "    except:\n",
    "        return \"masukin angka dongg, jangan yang lain\"\n",
    "\n",
    "satuyangkedua = input(\"Masukkan sisi 1: \")\n",
    "duayangkedua = input(\"Masukkan sisi 2: \")\n",
    "tigayangkedua = input(\"Masukkan sisi 3: \")\n",
    "\n",
    "hasil = sisisama(satuyangkedua, duayangkedua, tigayangkedua)\n",
    "print(hasil)"
   ]
  },
  {
   "cell_type": "code",
   "execution_count": null,
   "id": "c81b6948-05d3-4c8b-b535-b0f0f427a5a2",
   "metadata": {},
   "outputs": [],
   "source": []
  }
 ],
 "metadata": {
  "kernelspec": {
   "display_name": "Python [conda env:base] *",
   "language": "python",
   "name": "conda-base-py"
  },
  "language_info": {
   "codemirror_mode": {
    "name": "ipython",
    "version": 3
   },
   "file_extension": ".py",
   "mimetype": "text/x-python",
   "name": "python",
   "nbconvert_exporter": "python",
   "pygments_lexer": "ipython3",
   "version": "3.12.7"
  }
 },
 "nbformat": 4,
 "nbformat_minor": 5
}
