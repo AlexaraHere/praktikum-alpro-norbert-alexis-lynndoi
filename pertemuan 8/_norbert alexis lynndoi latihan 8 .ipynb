{
 "cells": [
  {
   "cell_type": "code",
   "execution_count": 3,
   "id": "4efc5a7f-eb52-4432-bfc7-ebf1b3d7582f",
   "metadata": {},
   "outputs": [
    {
     "name": "stdin",
     "output_type": "stream",
     "text": [
      "kata pertama:  sad\n",
      "kata kedua:  qwe\n"
     ]
    },
    {
     "name": "stdout",
     "output_type": "stream",
     "text": [
      "\"sad\" bukan anagram dari \"qwe\".\n"
     ]
    }
   ],
   "source": [
    "def cek_anagram(kata1, kata2):\n",
    "    kata1 = kata1.replace(\" \", \"\").lower()\n",
    "    kata2 = kata2.replace(\" \", \"\").lower()\n",
    "    \n",
    "    if len(kata1) != len(kata2):\n",
    "        return False\n",
    "    else:\n",
    "        return sorted(kata1) == sorted(kata2)\n",
    "\n",
    "kata11 = input(\"kata pertama: \")\n",
    "kata22 = input(\"kata kedua: \")\n",
    "\n",
    "if cek_anagram(kata11, kata22):\n",
    "    print(f'\"{kata11}\" adalah anagram dari \"{kata22}\".')\n",
    "else:\n",
    "    print(f'\"{kata11}\" bukan anagram dari \"{kata22}\".')"
   ]
  },
  {
   "cell_type": "code",
   "execution_count": 13,
   "id": "61f05e61-03f2-4a60-a86f-628d3e0c33db",
   "metadata": {},
   "outputs": [
    {
     "name": "stdin",
     "output_type": "stream",
     "text": [
      "Masukkan kalimat:  makan kls makan aaa makan\n",
      "Kata yang mau dihitung:  makan\n"
     ]
    },
    {
     "name": "stdout",
     "output_type": "stream",
     "text": [
      "Kata \"makan\" muncul sebanyak 3 kali.\n"
     ]
    }
   ],
   "source": [
    "def frekuensi(kalimat, kata):\n",
    "    spesial = '.,!?;:()[]{}\\'\"'\n",
    "    kalimat = kalimat.lower()\n",
    "    kata = kata.lower()\n",
    "    \n",
    "    for i in spesial:\n",
    "        kalimat = kalimat.replace(i, '')\n",
    "        \n",
    "    semua = kalimat.split(\" \")\n",
    "    return semua.count(kata)\n",
    "\n",
    "kalimat1 = input(\"Masukkan kalimat: \")\n",
    "kata1 = input(\"Kata yang mau dihitung: \")\n",
    "\n",
    "a = frekuensi(kalimat1, kata1)\n",
    "print(f'Kata \"{kata1}\" muncul sebanyak {a} kali.')"
   ]
  },
  {
   "cell_type": "code",
   "execution_count": 15,
   "id": "ae212a9d-0f33-4706-aa4c-1c3cbdf06ffb",
   "metadata": {},
   "outputs": [
    {
     "name": "stdin",
     "output_type": "stream",
     "text": [
      "Masukkan kalimat:  shwodhwasi          huoaewidhaw         ieuwddibw           \n"
     ]
    },
    {
     "name": "stdout",
     "output_type": "stream",
     "text": [
      "shwodhwasi huoaewidhaw ieuwddibw\n"
     ]
    }
   ],
   "source": [
    "def penghilang_spasi(kalimat):\n",
    "    a =' '.join(kalimat.strip().split())\n",
    "    return a\n",
    "\n",
    "b = penghilang_spasi(input(\"Masukkan kalimat: \")) \n",
    "print(b)"
   ]
  },
  {
   "cell_type": "code",
   "execution_count": 27,
   "id": "ae8187ad-3cb9-4aaf-9144-fba93b583deb",
   "metadata": {},
   "outputs": [
    {
     "name": "stdin",
     "output_type": "stream",
     "text": [
      "Masukkan kalimat:  wawaawa kakopl koi\n"
     ]
    },
    {
     "name": "stdout",
     "output_type": "stream",
     "text": [
      "Kata terpendek: koi\n",
      "Kata terpanjang: wawaawa\n"
     ]
    }
   ],
   "source": [
    "def kata_pendek_panjang(kalimat):\n",
    "    kata = kalimat.strip().split()\n",
    "    terpendek = kata[0]\n",
    "    terpanjang = kata[0]\n",
    "\n",
    "    for i in kata:\n",
    "        if len(i) < len(terpendek):\n",
    "            terpendek = i\n",
    "        if len(i) > len(terpanjang):\n",
    "            terpanjang = i\n",
    "\n",
    "    return terpendek, terpanjang\n",
    "\n",
    "a = input(\"Masukkan kalimat: \")\n",
    "pendek, panjang = kata_pendek_panjang(a)\n",
    "print(f\"Kata terpendek: {pendek}\")\n",
    "print(f\"Kata terpanjang: {panjang}\")"
   ]
  },
  {
   "cell_type": "code",
   "execution_count": 31,
   "id": "23893b65-621d-4d14-aeed-1d3b434f8a76",
   "metadata": {},
   "outputs": [
    {
     "name": "stdin",
     "output_type": "stream",
     "text": [
      "masukin tahun sekarang bos:  2025\n",
      "masukin bulan sekarang bos:  04\n",
      "masukin hari sekarang bos:  27\n"
     ]
    },
    {
     "name": "stdout",
     "output_type": "stream",
     "text": [
      "1945-08-17 00:00:00 selisih 29088 hari\n",
      "1785-11-11 00:00:00 selisih 87402 hari\n",
      "1783-06-08 00:00:00 selisih 88288 hari\n",
      "1889-05-02 00:00:00 selisih 49635 hari\n"
     ]
    }
   ],
   "source": [
    "import re\n",
    "\n",
    "def jadihari(teks):\n",
    "    yyyymmdd = re.findall(r'\\d+-\\d+-\\d+', teks)\n",
    "\n",
    "    tahun1 = int(input(\"masukin tahun sekarang bos: \"))\n",
    "    bulan1 = int(input(\"masukin bulan sekarang bos: \"))\n",
    "    hari1 = int(input(\"masukin hari sekarang bos: \"))\n",
    "\n",
    "    semuabulan = [0, 31, 59, 90, 120, 151, 181, 212, 243, 273, 304, 334]\n",
    "\n",
    "    totalhariskrng = tahun1 * 365 + semuabulan[bulan1 - 1] + hari1\n",
    "\n",
    "    hasil = []\n",
    "\n",
    "    for i in yyyymmdd:\n",
    "        pecah = i.split('-')\n",
    "        tahun = int(pecah[0])\n",
    "        bulan = int(pecah[1])\n",
    "        hari = int(pecah[2])\n",
    "\n",
    "        hari_total = tahun * 365 + semuabulan[bulan - 1] + hari\n",
    "        selisih = totalhariskrng - hari_total\n",
    "\n",
    "        hasil.append(f\"{i} 00:00:00 selisih {selisih} hari\") \n",
    "    return hasil\n",
    "\n",
    "a = jadihari(\"Pada tanggal 1945-08-17 Indonesia merdeka. Indonesia memiliki beberapa pahlawan nasional, seperti Pangeran Diponegoro (TL: 1785-11-11), Pattimura (TL: 1783-06-08) dan Ki Hajar Dewantara (1889-05-02).\")\n",
    "\n",
    "for j in a:\n",
    "    print(j)"
   ]
  },
  {
   "cell_type": "code",
   "execution_count": 37,
   "id": "1535a782-682a-4124-9677-bf1999333cbd",
   "metadata": {},
   "outputs": [
    {
     "name": "stdout",
     "output_type": "stream",
     "text": [
      "n\n",
      "y\n",
      "a\n",
      "r\n",
      "i\n",
      " \n",
      "a\n",
      "p\n",
      "a\n",
      " \n",
      "b\n",
      "g\n",
      "?\n"
     ]
    }
   ],
   "source": [
    "\n",
    "import random\n",
    "\n",
    "def kalimat(teks):\n",
    "    hurufgede = \"ABCDEFGHIJKLMNOPQRSTUVWXYZ\"\n",
    "    hurufkecil = \"abcdefghijklmnopqrstuvwxyz\"\n",
    "    angka = \"0123456789\"\n",
    "    semua_karakter = hurufgede + hurufkecil + angka\n",
    "\n",
    "    teks = teks.split(\" \")\n",
    "    hasil = []\n",
    "\n",
    "    for i in teks:\n",
    "        if \"@\" in i and \".\" in i:\n",
    "            email = i\n",
    "            username = email.split(\"@\")[0]\n",
    "\n",
    "            password = \"\"\n",
    "            for i in range(8):\n",
    "                password += random.choice(semua_karakter)\n",
    "\n",
    "            hasil.append(f\"{email} username: {username} password: {password}\")\n",
    "    return hasil\n",
    "\n",
    "a = kalimat(\"anton@mail.com dimiliki oleh antonius budi@gmail.co.id dimiliki oleh budi anwari slamet@getnada.com dimiliki oleh slamet slumut matahari@tokopedia.com dimiliki oleh toko matahari\")\n",
    "\n",
    "for j in a:\n",
    "    print(j)"
   ]
  },
  {
   "cell_type": "code",
   "execution_count": null,
   "id": "3c13eebf-7b4b-415b-b385-8e8305f4724c",
   "metadata": {},
   "outputs": [],
   "source": []
  }
 ],
 "metadata": {
  "kernelspec": {
   "display_name": "Python [conda env:base] *",
   "language": "python",
   "name": "conda-base-py"
  },
  "language_info": {
   "codemirror_mode": {
    "name": "ipython",
    "version": 3
   },
   "file_extension": ".py",
   "mimetype": "text/x-python",
   "name": "python",
   "nbconvert_exporter": "python",
   "pygments_lexer": "ipython3",
   "version": "3.12.7"
  }
 },
 "nbformat": 4,
 "nbformat_minor": 5
}
