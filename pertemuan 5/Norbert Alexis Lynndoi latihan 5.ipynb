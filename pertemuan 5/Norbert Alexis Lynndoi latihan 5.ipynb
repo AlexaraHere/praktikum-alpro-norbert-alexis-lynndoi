{
 "cells": [
  {
   "cell_type": "code",
   "execution_count": 21,
   "id": "38c33240-047a-4351-86a6-23cf8c23c983",
   "metadata": {},
   "outputs": [
    {
     "name": "stdin",
     "output_type": "stream",
     "text": [
      "Nilai1 =  2\n",
      "Nilai2 =  5\n",
      "Nilai3 =  3\n"
     ]
    },
    {
     "name": "stdout",
     "output_type": "stream",
     "text": [
      "True\n"
     ]
    }
   ],
   "source": [
    "def cek_angka(nilai1,nilai2,nilai3):\n",
    "    if nilai1 != nilai2 != nilai3:\n",
    "        if nilai1 + nilai2 == nilai3 or nilai2 + nilai3 == nilai1 or nilai1 + nilai3 == nilai2:\n",
    "            return True\n",
    "        else:\n",
    "            return False\n",
    "    else:\n",
    "        return False\n",
    "\n",
    "\n",
    "a = int(input(\"Nilai1 = \"))\n",
    "b = int(input(\"Nilai2 = \"))\n",
    "c = int(input(\"Nilai3 = \"))\n",
    "\n",
    "hasil = cek_angka(a,b,c)\n",
    "print(hasil)"
   ]
  },
  {
   "cell_type": "code",
   "execution_count": 37,
   "id": "06383aef-ee2e-441c-986b-6f38afaa43c8",
   "metadata": {},
   "outputs": [
    {
     "name": "stdin",
     "output_type": "stream",
     "text": [
      "Nilai1 =  23\n",
      "Nilai2 =  15\n",
      "Nilai3 =  25\n"
     ]
    },
    {
     "name": "stdout",
     "output_type": "stream",
     "text": [
      "True\n"
     ]
    }
   ],
   "source": [
    "def cek_digit_belakang(nilai1, nilai2, nilai3):\n",
    "    nilai1 = nilai1 % 10\n",
    "    nilai2 = nilai2 % 10\n",
    "    nilai3 = nilai3 % 10\n",
    "    if nilai1 == nilai2 or nilai2 == nilai3 or nilai1 == nilai3:\n",
    "        return True\n",
    "    else:\n",
    "        return False\n",
    "\n",
    "a = int(input(\"Nilai1 = \"))\n",
    "b = int(input(\"Nilai2 = \"))\n",
    "c = int(input(\"Nilai3 = \"))\n",
    "\n",
    "hasil = cek_digit_belakang(a,b,c)\n",
    "print(hasil)"
   ]
  },
  {
   "cell_type": "code",
   "execution_count": 19,
   "id": "05b6bb80-5a61-45cb-8e10-8681eecd9bd6",
   "metadata": {},
   "outputs": [
    {
     "name": "stdin",
     "output_type": "stream",
     "text": [
      "Masukin angka, kalo 1 Fahrenheit kalo 2 Reamur =  2\n",
      "Masukkan suhu dalam Celcius:  80\n"
     ]
    },
    {
     "name": "stdout",
     "output_type": "stream",
     "text": [
      "R = 64.0\n"
     ]
    }
   ],
   "source": [
    "celsius_f = lambda celcius: (9/5) * celcius + 32 \n",
    "celsius_r = lambda celcius: 0.8 * celcius \n",
    "fataur = int(input(\"Masukin angka, kalo 1 Fahrenheit kalo 2 Reamur = \"))\n",
    "celcius = int(input(\"Masukkan suhu dalam Celcius: \"))\n",
    "if fataur == 1:\n",
    "    print(f\"F = {celsius_f(celcius)}\")\n",
    "elif fataur == 2:\n",
    "    print(f\"R = {celsius_r(celcius)}\")\n",
    "else:\n",
    "    print(\"pilih 1 atau ga 2 bang.\")"
   ]
  },
  {
   "cell_type": "code",
   "execution_count": null,
   "id": "9ccf4090-fb1e-495f-abd6-19ebc3aa1cd2",
   "metadata": {},
   "outputs": [],
   "source": []
  }
 ],
 "metadata": {
  "kernelspec": {
   "display_name": "Python [conda env:base] *",
   "language": "python",
   "name": "conda-base-py"
  },
  "language_info": {
   "codemirror_mode": {
    "name": "ipython",
    "version": 3
   },
   "file_extension": ".py",
   "mimetype": "text/x-python",
   "name": "python",
   "nbconvert_exporter": "python",
   "pygments_lexer": "ipython3",
   "version": "3.12.7"
  }
 },
 "nbformat": 4,
 "nbformat_minor": 5
}
