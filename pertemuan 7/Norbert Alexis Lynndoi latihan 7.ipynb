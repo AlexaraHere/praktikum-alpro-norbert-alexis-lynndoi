{
 "cells": [
  {
   "cell_type": "code",
   "execution_count": 65,
   "id": "8ea6578b-1006-43c3-a1b3-d4c3ba81bb63",
   "metadata": {},
   "outputs": [
    {
     "name": "stdin",
     "output_type": "stream",
     "text": [
      "n=  16\n"
     ]
    },
    {
     "data": {
      "text/plain": [
       "'maka prima terdekat <16 adalah 13'"
      ]
     },
     "execution_count": 65,
     "metadata": {},
     "output_type": "execute_result"
    }
   ],
   "source": [
    "def priwaaaaa(n):\n",
    "    if n <= 2:\n",
    "        return f\"kaga ada bang bilangan prima sebelum {n}\"\n",
    "    else:\n",
    "        for i in range(n - 1, 1, -1):\n",
    "            prima = True\n",
    "            for j in range(2, i):\n",
    "                if i % j == 0:\n",
    "                    prima = False\n",
    "                    break\n",
    "            if prima == True:\n",
    "                return f\"maka prima terdekat <{n} adalah {i}\"\n",
    "\n",
    "a = int(input(\"n= \"))\n",
    "priwaaaaa(a)"
   ]
  },
  {
   "cell_type": "code",
   "execution_count": 9,
   "id": "ad21fd46-6b5a-4d97-a3a5-99e9c7fb2502",
   "metadata": {},
   "outputs": [
    {
     "name": "stdin",
     "output_type": "stream",
     "text": [
      "deret faktorial berapa?   5\n"
     ]
    },
    {
     "name": "stdout",
     "output_type": "stream",
     "text": [
      "120 5 4 3 2 1 \n",
      "24 4 3 2 1 \n",
      "6 3 2 1 \n",
      "2 2 1 \n",
      "1 1 \n"
     ]
    }
   ],
   "source": [
    "import math\n",
    "\n",
    "def waa(n):\n",
    "    for i in range (n,0,-1):\n",
    "        print(math.factorial(i), end=\" \")\n",
    "        for j in range(i, 0, -1):\n",
    "            print(j, end=\" \")\n",
    "        print()\n",
    "\n",
    "def waaa(n):\n",
    "    for i in range(n, 0, -1):\n",
    "        factorial = 1\n",
    "        for j in range(1, i + 1):\n",
    "            factorial = factorial * j\n",
    "        print(factorial, end=\" \")\n",
    "        for k in range(i, 0, -1):\n",
    "            print(k, end=\" \")\n",
    "        print()\n",
    "\n",
    "\n",
    "a = int(input(\"deret faktorial berapa?  \"))\n",
    "\n",
    "waaa(a)"
   ]
  },
  {
   "cell_type": "code",
   "execution_count": 33,
   "id": "a7aecd16-317d-464c-8a9c-8a3fe01b4035",
   "metadata": {},
   "outputs": [
    {
     "name": "stdin",
     "output_type": "stream",
     "text": [
      "masukan tinggi=  5\n",
      "masukan lebar =  4\n"
     ]
    },
    {
     "name": "stdout",
     "output_type": "stream",
     "text": [
      "1 2 3 4 \n",
      "5 6 7 8 \n",
      "9 10 11 12 \n",
      "13 14 15 16 \n",
      "17 18 19 20 \n"
     ]
    }
   ],
   "source": [
    "def deret(tinggi, lebar):\n",
    "    if lebar < 1 or tinggi < 1:\n",
    "        return \"Tidak terdefinisikan\"\n",
    "    angka = 1  \n",
    "    for i in range(tinggi):\n",
    "        for j in range(lebar):\n",
    "            print(f\"{angka}\", end=\" \")\n",
    "            angka += 1\n",
    "        print()  \n",
    "\n",
    "\n",
    "a = int(input(\"masukan tinggi= \"))\n",
    "b = int(input(\"masukan lebar = \"))\n",
    "deret(a, b)"
   ]
  },
  {
   "cell_type": "code",
   "execution_count": null,
   "id": "5fa8119d-dfc3-4098-a533-ca59493bbe97",
   "metadata": {},
   "outputs": [],
   "source": []
  }
 ],
 "metadata": {
  "kernelspec": {
   "display_name": "Python [conda env:base] *",
   "language": "python",
   "name": "conda-base-py"
  },
  "language_info": {
   "codemirror_mode": {
    "name": "ipython",
    "version": 3
   },
   "file_extension": ".py",
   "mimetype": "text/x-python",
   "name": "python",
   "nbconvert_exporter": "python",
   "pygments_lexer": "ipython3",
   "version": "3.12.7"
  }
 },
 "nbformat": 4,
 "nbformat_minor": 5
}
